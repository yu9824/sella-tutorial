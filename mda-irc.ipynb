{
 "cells": [
  {
   "cell_type": "code",
   "execution_count": 1,
   "id": "27232e6d",
   "metadata": {},
   "outputs": [
    {
     "name": "stderr",
     "output_type": "stream",
     "text": [
      "/home/yu9824/opt/miniforge3/envs/fairchem312/lib/python3.12/site-packages/torchtnt/utils/version.py:12: UserWarning: pkg_resources is deprecated as an API. See https://setuptools.pypa.io/en/latest/pkg_resources.html. The pkg_resources package is slated for removal as early as 2025-11-30. Refrain from using this package or pin to Setuptools<81.\n",
      "  import pkg_resources\n"
     ]
    }
   ],
   "source": [
    "import importlib.util\n",
    "import os\n",
    "from copy import copy\n",
    "from io import StringIO\n",
    "from logging import (\n",
    "    INFO,\n",
    "    NOTSET,\n",
    "    FileHandler,\n",
    "    Formatter,\n",
    "    Logger,\n",
    "    StreamHandler,\n",
    "    captureWarnings,\n",
    "    getLogger,\n",
    ")\n",
    "from pathlib import Path\n",
    "from shutil import rmtree\n",
    "\n",
    "import matplotlib.pyplot as plt\n",
    "import numpy as np\n",
    "from ase.io import read, write\n",
    "from ase.io.trajectory import Trajectory\n",
    "from ase.vibrations import Vibrations\n",
    "from ase.visualize import view\n",
    "from fairchem.core import FAIRChemCalculator\n",
    "from fairchem.core.units.mlip_unit import load_predict_unit\n",
    "from rdkit import Chem\n",
    "from rdkit.Chem.rdDistGeom import EmbedMolecule\n",
    "from sella import IRC, Sella"
   ]
  },
  {
   "cell_type": "code",
   "execution_count": 2,
   "id": "33b3af0d",
   "metadata": {},
   "outputs": [],
   "source": [
    "jobname = \"mda-irc\"\n",
    "\n",
    "SEED = 334"
   ]
  },
  {
   "cell_type": "code",
   "execution_count": 3,
   "id": "6b652561",
   "metadata": {},
   "outputs": [],
   "source": [
    "if \"__file__\" in locals():\n",
    "    DIRPATH_ROOT = Path(__file__).parent\n",
    "else:\n",
    "    DIRPATH_ROOT = Path(os.getcwd())\n",
    "\n",
    "DIRPATH_TRAJ = DIRPATH_ROOT / \"traj\" / jobname\n",
    "rmtree(DIRPATH_TRAJ, ignore_errors=True)\n",
    "DIRPATH_TRAJ.mkdir(parents=True)\n",
    "\n",
    "DIRPATH_LOG = DIRPATH_ROOT / \"log\" / jobname\n",
    "rmtree(DIRPATH_LOG, ignore_errors=True)\n",
    "DIRPATH_LOG.mkdir(parents=True)\n",
    "\n",
    "DIRPATH_OUT = DIRPATH_ROOT / \"out\"\n",
    "DIRPATH_OUT.mkdir(exist_ok=True)"
   ]
  },
  {
   "cell_type": "code",
   "execution_count": 4,
   "id": "58e36eab",
   "metadata": {},
   "outputs": [],
   "source": [
    "def configure_logger() -> Logger:\n",
    "    logger = getLogger(\"sella-tutorial\")\n",
    "    logger.propagate = False\n",
    "\n",
    "    formatter = Formatter(\"%(asctime)s [%(levelname)s] %(message)s\")\n",
    "\n",
    "    file_handler = FileHandler(\n",
    "        DIRPATH_LOG / \"sella-tutorial.log\",\n",
    "        mode=\"w\",  # 上書き\n",
    "    )\n",
    "    file_handler.setFormatter(formatter)\n",
    "    file_handler.setLevel(NOTSET)\n",
    "\n",
    "    if importlib.util.find_spec(\"colorlog\"):\n",
    "        from colorlog import ColoredFormatter\n",
    "\n",
    "        colored_formatter = ColoredFormatter(\n",
    "            \"%(asctime)s [%(log_color)s%(levelname)s%(reset)s] %(message)s\"\n",
    "        )\n",
    "    else:\n",
    "        colored_formatter = formatter\n",
    "    stream_handler = StreamHandler()\n",
    "    stream_handler.setFormatter(colored_formatter)\n",
    "    stream_handler.setLevel(NOTSET)\n",
    "\n",
    "    captureWarnings(True)\n",
    "    _logger_warnings = getLogger(\"py.warnings\")\n",
    "    _logger_warnings.handlers.clear()\n",
    "    _logger_warnings.addHandler(file_handler)\n",
    "    _logger_warnings.addHandler(stream_handler)\n",
    "    _logger_warnings.propagate = False\n",
    "\n",
    "    logger.handlers.clear()\n",
    "    logger.addHandler(file_handler)\n",
    "    logger.addHandler(stream_handler)\n",
    "    logger.setLevel(INFO)\n",
    "\n",
    "    return logger\n",
    "\n",
    "\n",
    "logger = configure_logger()"
   ]
  },
  {
   "cell_type": "code",
   "execution_count": 5,
   "id": "12dfee94",
   "metadata": {},
   "outputs": [],
   "source": [
    "predictor = load_predict_unit(\n",
    "    Path(os.environ[\"HOME\"]) / \"uma/checkpoints/uma-s-1p1.pt\", device=\"cuda\"\n",
    ")\n",
    "calc = FAIRChemCalculator(predictor, task_name=\"omol\", seed=SEED)"
   ]
  },
  {
   "cell_type": "code",
   "execution_count": 6,
   "id": "68962c5e",
   "metadata": {
    "lines_to_next_cell": 2
   },
   "outputs": [
    {
     "data": {
      "image/png": "[encoded data removed]",
      "text/plain": [
       "<rdkit.Chem.rdchem.Mol at 0x7f60f1fe4510>"
      ]
     },
     "execution_count": 6,
     "metadata": {},
     "output_type": "execute_result"
    }
   ],
   "source": [
    "smiles_dummy = \"O1CC=COC1\"\n",
    "\n",
    "mol_dummy = Chem.MolFromSmiles(smiles_dummy)\n",
    "mol_dummy = Chem.AddHs(mol_dummy)\n",
    "EmbedMolecule(mol_dummy, randomSeed=SEED)\n",
    "for atom in mol_dummy.GetAtoms():\n",
    "    atom.SetProp(\"atomLabel\", f\"{atom.GetSymbol()}:{atom.GetIdx()}\")\n",
    "\n",
    "mol_dummy"
   ]
  },
  {
   "cell_type": "code",
   "execution_count": 7,
   "id": "ca3f1b39",
   "metadata": {},
   "outputs": [
    {
     "data": {
      "image/png": "[encoded data removed]",
      "text/plain": [
       "<rdkit.Chem.rdchem.Mol at 0x7f60f1fe4350>"
      ]
     },
     "execution_count": 7,
     "metadata": {},
     "output_type": "execute_result"
    }
   ],
   "source": [
    "mol_mda_ts_cand = Chem.RWMol(mol_dummy)\n",
    "mol_mda_ts_cand.RemoveAtom(11)\n",
    "mol_mda_ts_cand.RemoveAtom(10)\n",
    "mol_mda_ts_cand.RemoveAtom(7)\n",
    "mol_mda_ts_cand.GetBondBetweenAtoms(0, 1).SetBondType(Chem.BondType.DOUBLE)\n",
    "mol_mda_ts_cand.ReplaceAtom(5, Chem.Atom(1))\n",
    "mol_mda_ts_cand = mol_mda_ts_cand.GetMol()\n",
    "\n",
    "for atom in mol_mda_ts_cand.GetAtoms():\n",
    "    atom.SetProp(\"atomLabel\", f\"{atom.GetSymbol()}:{atom.GetIdx()}\")\n",
    "\n",
    "mol_mda_ts_cand"
   ]
  },
  {
   "cell_type": "code",
   "execution_count": 8,
   "id": "f92ee3c8",
   "metadata": {},
   "outputs": [
    {
     "data": {
      "text/html": [
       "<html>\n",
       "    <head>\n",
       "        <title>ASE atomic visualization</title>\n",
       "        <link rel=\"stylesheet\" type=\"text/css\"             href=\"https://www.x3dom.org/release/x3dom.css\"></link>\n",
       "        <script type=\"text/javascript\"             src=\"https://www.x3dom.org/release/x3dom.js\"></script>\n",
       "    </head>\n",
       "    <body>\n",
       "        <X3D width=\"400px\"; height=\"300px\";>\n",
       "\n",
       "<!--Inserting Generated X3D Scene-->\n",
       "<scene>\n",
       "  <viewpoint position=\"0 0 7.964466\">\n",
       "    <group/>\n",
       "  </viewpoint>\n",
       "  <transform translation=\"-0.0 -0.0 -0.0\">\n",
       "    <group>\n",
       "      <group>\n",
       "        <transform translation=\"0 0 0\">\n",
       "          <shape>\n",
       "            <appearance>\n",
       "              <material diffuseColor=\"0 0 0\"/>\n",
       "            </appearance>\n",
       "            <lineset vertexCount=\"5\">\n",
       "              <coordinate point=\"0 0 0 0.0 0.0 0.0 0.0 0.0 0.0 0.0 0.0 0.0 0 0 0\"/>\n",
       "            </lineset>\n",
       "          </shape>\n",
       "        </transform>\n",
       "        <transform translation=\"0.0 0.0 0.0\">\n",
       "          <shape>\n",
       "            <appearance>\n",
       "              <material diffuseColor=\"0 0 0\"/>\n",
       "            </appearance>\n",
       "            <lineset vertexCount=\"5\">\n",
       "              <coordinate point=\"0 0 0 0.0 0.0 0.0 0.0 0.0 0.0 0.0 0.0 0.0 0 0 0\"/>\n",
       "            </lineset>\n",
       "          </shape>\n",
       "        </transform>\n",
       "        <transform translation=\"0 0 0\">\n",
       "          <shape>\n",
       "            <appearance>\n",
       "              <material diffuseColor=\"0 0 0\"/>\n",
       "            </appearance>\n",
       "            <lineset vertexCount=\"5\">\n",
       "              <coordinate point=\"0 0 0 0.0 0.0 0.0 0.0 0.0 0.0 0.0 0.0 0.0 0 0 0\"/>\n",
       "            </lineset>\n",
       "          </shape>\n",
       "        </transform>\n",
       "        <transform translation=\"0.0 0.0 0.0\">\n",
       "          <shape>\n",
       "            <appearance>\n",
       "              <material diffuseColor=\"0 0 0\"/>\n",
       "            </appearance>\n",
       "            <lineset vertexCount=\"5\">\n",
       "              <coordinate point=\"0 0 0 0.0 0.0 0.0 0.0 0.0 0.0 0.0 0.0 0.0 0 0 0\"/>\n",
       "            </lineset>\n",
       "          </shape>\n",
       "        </transform>\n",
       "      </group>\n",
       "      <group>\n",
       "        <transform translation=\"-0.938799 0.669937 0.594876\">\n",
       "          <shape>\n",
       "            <appearance>\n",
       "              <material diffuseColor=\"1.0 0.051 0.051\"/>\n",
       "            </appearance>\n",
       "            <sphere radius=\"0.66\"/>\n",
       "          </shape>\n",
       "        </transform>\n",
       "        <transform translation=\"0.183145 1.207727 -0.003602\">\n",
       "          <shape>\n",
       "            <appearance>\n",
       "              <material diffuseColor=\"0.565 0.565 0.565\"/>\n",
       "            </appearance>\n",
       "            <sphere radius=\"0.76\"/>\n",
       "          </shape>\n",
       "        </transform>\n",
       "        <transform translation=\"1.26284 0.182114 0.104553\">\n",
       "          <shape>\n",
       "            <appearance>\n",
       "              <material diffuseColor=\"0.565 0.565 0.565\"/>\n",
       "            </appearance>\n",
       "            <sphere radius=\"0.76\"/>\n",
       "          </shape>\n",
       "        </transform>\n",
       "        <transform translation=\"0.898046 -1.089419 0.031519\">\n",
       "          <shape>\n",
       "            <appearance>\n",
       "              <material diffuseColor=\"0.565 0.565 0.565\"/>\n",
       "            </appearance>\n",
       "            <sphere radius=\"0.76\"/>\n",
       "          </shape>\n",
       "        </transform>\n",
       "        <transform translation=\"-0.418293 -1.496972 -0.137734\">\n",
       "          <shape>\n",
       "            <appearance>\n",
       "              <material diffuseColor=\"1.0 0.051 0.051\"/>\n",
       "            </appearance>\n",
       "            <sphere radius=\"0.66\"/>\n",
       "          </shape>\n",
       "        </transform>\n",
       "        <transform translation=\"-1.399993 -0.468166 -0.004232\">\n",
       "          <shape>\n",
       "            <appearance>\n",
       "              <material diffuseColor=\"1.0 1.0 1.0\"/>\n",
       "            </appearance>\n",
       "            <sphere radius=\"0.31\"/>\n",
       "          </shape>\n",
       "        </transform>\n",
       "        <transform translation=\"0.450693 2.160536 0.446707\">\n",
       "          <shape>\n",
       "            <appearance>\n",
       "              <material diffuseColor=\"1.0 1.0 1.0\"/>\n",
       "            </appearance>\n",
       "            <sphere radius=\"0.31\"/>\n",
       "          </shape>\n",
       "        </transform>\n",
       "        <transform translation=\"2.309166 0.486436 0.238645\">\n",
       "          <shape>\n",
       "            <appearance>\n",
       "              <material diffuseColor=\"1.0 1.0 1.0\"/>\n",
       "            </appearance>\n",
       "            <sphere radius=\"0.31\"/>\n",
       "          </shape>\n",
       "        </transform>\n",
       "        <transform translation=\"1.687814 -1.821697 0.111037\">\n",
       "          <shape>\n",
       "            <appearance>\n",
       "              <material diffuseColor=\"1.0 1.0 1.0\"/>\n",
       "            </appearance>\n",
       "            <sphere radius=\"0.31\"/>\n",
       "          </shape>\n",
       "        </transform>\n",
       "      </group>\n",
       "    </group>\n",
       "  </transform>\n",
       "</scene>\n",
       "<!--End of Inserted Scene-->\n",
       "\n",
       "        </X3D>\n",
       "    </body>\n",
       "</html>\n",
       "\n"
      ],
      "text/plain": [
       "<IPython.core.display.HTML object>"
      ]
     },
     "execution_count": 8,
     "metadata": {},
     "output_type": "execute_result"
    }
   ],
   "source": [
    "ts_cand = read(StringIO(Chem.MolToXYZBlock(mol_mda_ts_cand)), format=\"xyz\")\n",
    "view(ts_cand, viewer=\"x3d\")"
   ]
  },
  {
   "cell_type": "code",
   "execution_count": 9,
   "id": "212f37d9",
   "metadata": {},
   "outputs": [
    {
     "name": "stderr",
     "output_type": "stream",
     "text": [
      "WARNING:2025-08-21 16:48:35,890:jax._src.xla_bridge:872: An NVIDIA GPU may be present on this machine, but a CUDA-enabled jaxlib is not installed. Falling back to cpu.\n",
      "WARNING:jax._src.xla_bridge:An NVIDIA GPU may be present on this machine, but a CUDA-enabled jaxlib is not installed. Falling back to cpu.\n",
      "2025-08-21 16:48:42,237 [\u001b[32mINFO\u001b[0m] Converge ts structure: True\u001b[0m\n"
     ]
    },
    {
     "data": {
      "text/html": [
       "<html>\n",
       "    <head>\n",
       "        <title>ASE atomic visualization</title>\n",
       "        <link rel=\"stylesheet\" type=\"text/css\"             href=\"https://www.x3dom.org/release/x3dom.css\"></link>\n",
       "        <script type=\"text/javascript\"             src=\"https://www.x3dom.org/release/x3dom.js\"></script>\n",
       "    </head>\n",
       "    <body>\n",
       "        <X3D width=\"400px\"; height=\"300px\";>\n",
       "\n",
       "<!--Inserting Generated X3D Scene-->\n",
       "<scene>\n",
       "  <viewpoint position=\"0 0 8.223483074223218\">\n",
       "    <group/>\n",
       "  </viewpoint>\n",
       "  <transform translation=\"-0.0 -0.0 -0.0\">\n",
       "    <group>\n",
       "      <group>\n",
       "        <transform translation=\"0 0 0\">\n",
       "          <shape>\n",
       "            <appearance>\n",
       "              <material diffuseColor=\"0 0 0\"/>\n",
       "            </appearance>\n",
       "            <lineset vertexCount=\"5\">\n",
       "              <coordinate point=\"0 0 0 0.0 0.0 0.0 0.0 0.0 0.0 0.0 0.0 0.0 0 0 0\"/>\n",
       "            </lineset>\n",
       "          </shape>\n",
       "        </transform>\n",
       "        <transform translation=\"0.0 0.0 0.0\">\n",
       "          <shape>\n",
       "            <appearance>\n",
       "              <material diffuseColor=\"0 0 0\"/>\n",
       "            </appearance>\n",
       "            <lineset vertexCount=\"5\">\n",
       "              <coordinate point=\"0 0 0 0.0 0.0 0.0 0.0 0.0 0.0 0.0 0.0 0.0 0 0 0\"/>\n",
       "            </lineset>\n",
       "          </shape>\n",
       "        </transform>\n",
       "        <transform translation=\"0 0 0\">\n",
       "          <shape>\n",
       "            <appearance>\n",
       "              <material diffuseColor=\"0 0 0\"/>\n",
       "            </appearance>\n",
       "            <lineset vertexCount=\"5\">\n",
       "              <coordinate point=\"0 0 0 0.0 0.0 0.0 0.0 0.0 0.0 0.0 0.0 0.0 0 0 0\"/>\n",
       "            </lineset>\n",
       "          </shape>\n",
       "        </transform>\n",
       "        <transform translation=\"0.0 0.0 0.0\">\n",
       "          <shape>\n",
       "            <appearance>\n",
       "              <material diffuseColor=\"0 0 0\"/>\n",
       "            </appearance>\n",
       "            <lineset vertexCount=\"5\">\n",
       "              <coordinate point=\"0 0 0 0.0 0.0 0.0 0.0 0.0 0.0 0.0 0.0 0.0 0 0 0\"/>\n",
       "            </lineset>\n",
       "          </shape>\n",
       "        </transform>\n",
       "      </group>\n",
       "      <group>\n",
       "        <transform translation=\"-1.0484015861316263 0.7688854020270549 0.24595805557005695\">\n",
       "          <shape>\n",
       "            <appearance>\n",
       "              <material diffuseColor=\"1.0 0.051 0.051\"/>\n",
       "            </appearance>\n",
       "            <sphere radius=\"0.66\"/>\n",
       "          </shape>\n",
       "        </transform>\n",
       "        <transform translation=\"0.17224587429149546 1.1250611086897233 0.2809831811189764\">\n",
       "          <shape>\n",
       "            <appearance>\n",
       "              <material diffuseColor=\"0.565 0.565 0.565\"/>\n",
       "            </appearance>\n",
       "            <sphere radius=\"0.76\"/>\n",
       "          </shape>\n",
       "        </transform>\n",
       "        <transform translation=\"1.2126135161768334 0.20371259654956145 0.175292112559177\">\n",
       "          <shape>\n",
       "            <appearance>\n",
       "              <material diffuseColor=\"0.565 0.565 0.565\"/>\n",
       "            </appearance>\n",
       "            <sphere radius=\"0.76\"/>\n",
       "          </shape>\n",
       "        </transform>\n",
       "        <transform translation=\"0.8356924691727114 -1.130044325030421 0.029562165802257425\">\n",
       "          <shape>\n",
       "            <appearance>\n",
       "              <material diffuseColor=\"0.565 0.565 0.565\"/>\n",
       "            </appearance>\n",
       "            <sphere radius=\"0.76\"/>\n",
       "          </shape>\n",
       "        </transform>\n",
       "        <transform translation=\"-0.38547351867291113 -1.4845158931585136 -0.005941806211541611\">\n",
       "          <shape>\n",
       "            <appearance>\n",
       "              <material diffuseColor=\"1.0 0.051 0.051\"/>\n",
       "            </appearance>\n",
       "            <sphere radius=\"0.66\"/>\n",
       "          </shape>\n",
       "        </transform>\n",
       "        <transform translation=\"-0.9538418211310997 -0.4267549512831867 0.11284290030451884\">\n",
       "          <shape>\n",
       "            <appearance>\n",
       "              <material diffuseColor=\"1.0 1.0 1.0\"/>\n",
       "            </appearance>\n",
       "            <sphere radius=\"0.31\"/>\n",
       "          </shape>\n",
       "        </transform>\n",
       "        <transform translation=\"0.37236739401884766 2.1912267623401704 0.39843932185477793\">\n",
       "          <shape>\n",
       "            <appearance>\n",
       "              <material diffuseColor=\"1.0 1.0 1.0\"/>\n",
       "            </appearance>\n",
       "            <sphere radius=\"0.31\"/>\n",
       "          </shape>\n",
       "        </transform>\n",
       "        <transform translation=\"2.2466356571462436 0.5034400746370494 0.20525269133867358\">\n",
       "          <shape>\n",
       "            <appearance>\n",
       "              <material diffuseColor=\"1.0 1.0 1.0\"/>\n",
       "            </appearance>\n",
       "            <sphere radius=\"0.31\"/>\n",
       "          </shape>\n",
       "        </transform>\n",
       "        <transform translation=\"1.5827810151295045 -1.9205147747714384 -0.060619622336896314\">\n",
       "          <shape>\n",
       "            <appearance>\n",
       "              <material diffuseColor=\"1.0 1.0 1.0\"/>\n",
       "            </appearance>\n",
       "            <sphere radius=\"0.31\"/>\n",
       "          </shape>\n",
       "        </transform>\n",
       "      </group>\n",
       "    </group>\n",
       "  </transform>\n",
       "</scene>\n",
       "<!--End of Inserted Scene-->\n",
       "\n",
       "        </X3D>\n",
       "    </body>\n",
       "</html>\n",
       "\n"
      ],
      "text/plain": [
       "<IPython.core.display.HTML object>"
      ]
     },
     "execution_count": 9,
     "metadata": {},
     "output_type": "execute_result"
    }
   ],
   "source": [
    "ts_structure = ts_cand.copy()\n",
    "ts_structure.calc = copy(calc)\n",
    "ts_structure.info[\"charge\"] = 0\n",
    "ts_structure.info[\"spin\"] = 1\n",
    "opt_ts = Sella(\n",
    "    ts_structure,\n",
    "    trajectory=str(DIRPATH_TRAJ / \"ts.traj\"),\n",
    "    logfile=str(DIRPATH_LOG / \"ts.log\"),\n",
    "    order=1,  # ← index-1 saddle を探す\n",
    "    eta=1e-4,  # 初期ステップサイズ。大きくすると高速に移動、小さくすると安定だが遅い\n",
    "    gamma=0.01,  # 反復パラメータ（Sella 固有）。勾配の反映具合を調整\n",
    "    internal=False,  # 内部座標系で最適化するか。False で Cartesian 最適化\n",
    "    diag_every_n=1,\n",
    ")\n",
    "converged_ts = opt_ts.run(fmax=0.01)\n",
    "logger.info(f\"Converge ts structure: {converged_ts}\")\n",
    "\n",
    "view(ts_structure, viewer=\"x3d\")"
   ]
  },
  {
   "cell_type": "code",
   "execution_count": 10,
   "id": "80bc80aa",
   "metadata": {},
   "outputs": [
    {
     "name": "stderr",
     "output_type": "stream",
     "text": [
      "2025-08-21 16:48:47,385 [\u001b[32mINFO\u001b[0m] === 振動数計算結果 ===\u001b[0m\n",
      "2025-08-21 16:48:47,386 [\u001b[32mINFO\u001b[0m] 虚振動の数: 4 / 27\u001b[0m\n",
      "2025-08-21 16:48:47,406 [\u001b[32mINFO\u001b[0m] 虚振動数 (cm^-1):\n",
      "  0: 0.00+1295.09j\n",
      "  1: 0.00+5.35j\n",
      "  2: 0.00+4.00j\n",
      "  3: 0.00+0.18j\u001b[0m\n",
      "2025-08-21 16:48:47,408 [\u001b[32mINFO\u001b[0m] \n",
      "---------------------\n",
      "  #    meV     cm^-1\n",
      "---------------------\n",
      "  0  160.6i   1295.1i\n",
      "  1    0.7i      5.4i\n",
      "  2    0.5i      4.0i\n",
      "  3    0.0i      0.2i\n",
      "  4    0.0       0.3\n",
      "  5    0.0       0.4\n",
      "  6    1.2       9.8\n",
      "  7   45.2     364.3\n",
      "  8   47.7     384.9\n",
      "  9   70.9     571.7\n",
      " 10   77.6     625.8\n",
      " 11   95.7     771.8\n",
      " 12  118.0     951.7\n",
      " 13  126.2    1017.7\n",
      " 14  131.8    1063.4\n",
      " 15  133.2    1074.4\n",
      " 16  137.4    1107.8\n",
      " 17  159.2    1283.7\n",
      " 18  165.5    1334.7\n",
      " 19  171.4    1382.8\n",
      " 20  187.9    1515.2\n",
      " 21  202.8    1635.7\n",
      " 22  206.6    1666.2\n",
      " 23  232.2    1873.2\n",
      " 24  385.5    3109.2\n",
      " 25  385.8    3112.1\n",
      " 26  404.5    3262.6\n",
      "---------------------\n",
      "Zero-point energy: 1.743 eV\n",
      "\u001b[0m\n"
     ]
    }
   ],
   "source": [
    "#  振動数計算\n",
    "dirpath_vib_cache = DIRPATH_TRAJ / \"cache\"\n",
    "\n",
    "# 遷移状態の構造を読み込み\n",
    "# ts_structure = read(\"ts.traj\", index=-1)  # 最後の構造を取得\n",
    "ts_structure.calc = copy(calc)\n",
    "ts_structure.info[\"charge\"] = 0\n",
    "ts_structure.info[\"spin\"] = 1\n",
    "\n",
    "# 振動数計算の設定\n",
    "vib = Vibrations(\n",
    "    ts_structure, delta=0.01, name=str(dirpath_vib_cache), nfree=2\n",
    ")  # delta: 有限差分のステップサイズ（Å）\n",
    "\n",
    "vib.clean()\n",
    "# 振動数計算を実行\n",
    "vib.run()\n",
    "\n",
    "frequencies = vib.get_frequencies()\n",
    "flag_imag_freq = ~np.isclose(frequencies.imag, 0.0)\n",
    "n_imag_freqs = np.sum(flag_imag_freq).item()\n",
    "# 結果の表示\n",
    "logger.info(\"=== 振動数計算結果 ===\")\n",
    "logger.info(f\"虚振動の数: {n_imag_freqs} / {flag_imag_freq.shape[0]}\")\n",
    "\n",
    "# 虚振動数の詳細表示\n",
    "str_imag_freqs = \"虚振動数 (cm^-1):\"\n",
    "if n_imag_freqs:\n",
    "    for idx, freq in enumerate(frequencies):\n",
    "        if flag_imag_freq[idx]:\n",
    "            str_imag_freqs += f\"\\n  {idx}: {freq:8.2f}\"\n",
    "            # 虚振動のモードを可視化\n",
    "            vib.write_mode(idx)\n",
    "            (\n",
    "                dirpath_vib_cache.parent\n",
    "                / f\"{dirpath_vib_cache.name}.{idx}.traj\"\n",
    "            ).rename(dirpath_vib_cache.parent / f\"{jobname}.{idx}.traj\")\n",
    "\n",
    "    logger.info(str_imag_freqs)\n",
    "\n",
    "buffer_io = StringIO()\n",
    "vib.summary(log=buffer_io)\n",
    "logger.info(f\"\\n{buffer_io.getvalue()}\")"
   ]
  },
  {
   "cell_type": "code",
   "execution_count": 11,
   "id": "4f070a60",
   "metadata": {
    "lines_to_next_cell": 2
   },
   "outputs": [
    {
     "data": {
      "application/vnd.jupyter.widget-view+json": {
       "model_id": "23e09864e2514d6b92ee00eafbdd480b",
       "version_major": 2,
       "version_minor": 0
      },
      "text/plain": []
     },
     "metadata": {},
     "output_type": "display_data"
    },
    {
     "data": {
      "application/vnd.jupyter.widget-view+json": {
       "model_id": "134920ca5bd145188a177de3b7e50c57",
       "version_major": 2,
       "version_minor": 0
      },
      "text/plain": [
       "HBox(children=(NGLWidget(max_frame=29), VBox(children=(Dropdown(description='Show', options=('All', 'C', 'H', …"
      ]
     },
     "execution_count": 11,
     "metadata": {},
     "output_type": "execute_result"
    }
   ],
   "source": [
    "ind = 0\n",
    "traj_vib = Trajectory(DIRPATH_TRAJ / f\"{jobname}.{ind}.traj\")\n",
    "# write(f\"vib.{ind}.gif\", traj_vib, format=\"gif\")\n",
    "view(traj_vib, viewer=\"ngl\")"
   ]
  },
  {
   "cell_type": "code",
   "execution_count": 12,
   "id": "475ff987",
   "metadata": {},
   "outputs": [
    {
     "name": "stderr",
     "output_type": "stream",
     "text": [
      "2025-08-21 16:48:47,719 [\u001b[33mWARNING\u001b[0m] /home/yu9824/opt/miniforge3/envs/fairchem312/lib/python3.12/site-packages/sella/peswrapper.py:325: RuntimeWarning: invalid value encountered in scalar divide\n",
      "  ratio = df_actual / df_pred\n",
      "\u001b[0m\n",
      "2025-08-21 16:48:51,701 [\u001b[32mINFO\u001b[0m] Converged IRC (foward): True\u001b[0m\n"
     ]
    },
    {
     "data": {
      "application/vnd.jupyter.widget-view+json": {
       "model_id": "83c34bc777e040bca9921ece2570adc7",
       "version_major": 2,
       "version_minor": 0
      },
      "text/plain": [
       "HBox(children=(NGLWidget(max_frame=9), VBox(children=(Dropdown(description='Show', options=('All', 'C', 'H', '…"
      ]
     },
     "execution_count": 12,
     "metadata": {},
     "output_type": "execute_result"
    }
   ],
   "source": [
    "ts_irc_forward = ts_structure.copy()\n",
    "ts_irc_forward.calc = copy(calc)\n",
    "ts_irc_forward.info[\"charge\"] = 0\n",
    "ts_irc_forward.info[\"spin\"] = 1\n",
    "\n",
    "opt_irc_forward = IRC(\n",
    "    ts_irc_forward,\n",
    "    logfile=str(DIRPATH_LOG / \"irc_forward.log\"),\n",
    "    trajectory=str(DIRPATH_TRAJ / \"irc_forward.traj\"),\n",
    "    eta=1e-4,  # 初期ステップサイズ。大きくすると高速に移動、小さくすると安定だが遅い\n",
    "    gamma=0.01,  # 反復パラメータ（Sella 固有）。勾配の反映具合を調整\n",
    ")\n",
    "converged_irc_forward = opt_irc_forward.run(\n",
    "    fmax=0.01,\n",
    "    steps=10000,\n",
    "    direction=\"forward\",\n",
    ")\n",
    "logger.info(f\"Converged IRC (foward): {converged_irc_forward}\")\n",
    "\n",
    "traj_forward = Trajectory(str(DIRPATH_TRAJ / \"irc_forward.traj\"))\n",
    "view(traj_forward, viewer=\"ngl\")"
   ]
  },
  {
   "cell_type": "code",
   "execution_count": 13,
   "id": "01c9f771",
   "metadata": {},
   "outputs": [
    {
     "name": "stderr",
     "output_type": "stream",
     "text": [
      "2025-08-21 16:48:56,355 [\u001b[32mINFO\u001b[0m] Converged IRC (reverse): True\u001b[0m\n"
     ]
    },
    {
     "data": {
      "application/vnd.jupyter.widget-view+json": {
       "model_id": "50c7f9572a3e4d379bf2ec681e903884",
       "version_major": 2,
       "version_minor": 0
      },
      "text/plain": [
       "HBox(children=(NGLWidget(max_frame=9), VBox(children=(Dropdown(description='Show', options=('All', 'C', 'H', '…"
      ]
     },
     "execution_count": 13,
     "metadata": {},
     "output_type": "execute_result"
    }
   ],
   "source": [
    "ts_irc_reverse = ts_structure.copy()\n",
    "ts_irc_reverse.calc = copy(calc)\n",
    "ts_irc_reverse.info[\"charge\"] = 0\n",
    "ts_irc_reverse.info[\"spin\"] = 1\n",
    "\n",
    "opt_irc_reverse = IRC(\n",
    "    ts_irc_reverse,\n",
    "    logfile=str(DIRPATH_LOG / \"irc_reverse.log\"),\n",
    "    trajectory=str(DIRPATH_TRAJ / \"irc_reverse.traj\"),\n",
    "    eta=1e-4,  # 初期ステップサイズ。大きくすると高速に移動、小さくすると安定だが遅い\n",
    "    gamma=0.01,  # 反復パラメータ（Sella 固有）。勾配の反映具合を調整\n",
    ")\n",
    "converged_irc_reverse = opt_irc_reverse.run(\n",
    "    fmax=0.01,\n",
    "    steps=10000,\n",
    "    direction=\"reverse\",\n",
    ")\n",
    "logger.info(f\"Converged IRC (reverse): {converged_irc_reverse}\")\n",
    "\n",
    "traj_reverse = Trajectory(str(DIRPATH_TRAJ / \"irc_reverse.traj\"))\n",
    "view(traj_reverse, viewer=\"ngl\")"
   ]
  },
  {
   "cell_type": "code",
   "execution_count": 14,
   "id": "04add953",
   "metadata": {
    "lines_to_next_cell": 2
   },
   "outputs": [
    {
     "data": {
      "image/png": "[encoded data removed]",
      "text/plain": [
       "<Figure size 691.2x460.8 with 1 Axes>"
      ]
     },
     "metadata": {},
     "output_type": "display_data"
    }
   ],
   "source": [
    "tup_atoms_irc = tuple(traj_reverse)[::-1] + tuple(traj_forward[1:])\n",
    "energies = np.array(\n",
    "    [_atoms.get_potential_energy() for _atoms in tup_atoms_irc]\n",
    ")\n",
    "energies -= energies.min()\n",
    "\n",
    "fig, ax = plt.subplots(dpi=144, figsize=(4.8, 3.2))\n",
    "ax.plot(energies, marker=\"o\")\n",
    "ax.ticklabel_format(style=\"plain\", useOffset=False)\n",
    "ax.set_ylabel(\"Potential energy / eV\")\n",
    "fig.tight_layout()"
   ]
  },
  {
   "cell_type": "code",
   "execution_count": 15,
   "id": "c2d971ca",
   "metadata": {},
   "outputs": [
    {
     "data": {
      "image/png": "[encoded data removed]",
      "text/plain": [
       "<Figure size 691.2x460.8 with 1 Axes>"
      ]
     },
     "metadata": {},
     "output_type": "display_data"
    }
   ],
   "source": [
    "distance_o_and_h = np.asarray(\n",
    "    [\n",
    "        np.sqrt(\n",
    "            (\n",
    "                np.diff(tup_atoms_irc[frame].get_positions()[[0, 5]], axis=0)\n",
    "                ** 2\n",
    "            ).sum()\n",
    "        )\n",
    "        for frame in range(len(tup_atoms_irc))\n",
    "    ]\n",
    ")\n",
    "fig, ax = plt.subplots(dpi=144, figsize=(4.8, 3.2))\n",
    "ax.plot(distance_o_and_h, energies, marker=\"o\")\n",
    "ax.ticklabel_format(style=\"plain\", useOffset=False)\n",
    "ax.set_xlabel(\"Distance (C - H) / Å\")\n",
    "ax.set_ylabel(\"Potential energy / eV\")\n",
    "fig.tight_layout()"
   ]
  },
  {
   "cell_type": "code",
   "execution_count": 16,
   "id": "29520223",
   "metadata": {},
   "outputs": [
    {
     "name": "stderr",
     "output_type": "stream",
     "text": [
      "WARNING:matplotlib.animation:MovieWriter ffmpeg unavailable; using Pillow instead.\n"
     ]
    },
    {
     "data": {
      "image/png": "[encoded data removed]",
      "text/plain": [
       "<Figure size 640x480 with 1 Axes>"
      ]
     },
     "metadata": {},
     "output_type": "display_data"
    }
   ],
   "source": [
    "write(str(DIRPATH_OUT / f\"{jobname}.gif\"), tup_atoms_irc, format=\"gif\")"
   ]
  }
 ],
 "metadata": {
  "kernelspec": {
   "display_name": "fairchem312",
   "language": "python",
   "name": "python3"
  },
  "language_info": {
   "codemirror_mode": {
    "name": "ipython",
    "version": 3
   },
   "file_extension": ".py",
   "mimetype": "text/x-python",
   "name": "python",
   "nbconvert_exporter": "python",
   "pygments_lexer": "ipython3",
   "version": "3.12.11"
  }
 },
 "nbformat": 4,
 "nbformat_minor": 5
}
