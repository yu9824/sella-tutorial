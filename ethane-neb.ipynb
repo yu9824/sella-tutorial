{
 "cells": [
  {
   "cell_type": "code",
   "execution_count": 1,
   "id": "27232e6d",
   "metadata": {},
   "outputs": [
    {
     "name": "stderr",
     "output_type": "stream",
     "text": [
      "/home/yu9824/opt/miniforge3/envs/fairchem312/lib/python3.12/site-packages/torchtnt/utils/version.py:12: UserWarning: pkg_resources is deprecated as an API. See https://setuptools.pypa.io/en/latest/pkg_resources.html. The pkg_resources package is slated for removal as early as 2025-11-30. Refrain from using this package or pin to Setuptools<81.\n",
      "  import pkg_resources\n"
     ]
    }
   ],
   "source": [
    "import importlib.util\n",
    "import os\n",
    "from copy import copy\n",
    "from io import StringIO\n",
    "from logging import (\n",
    "    INFO,\n",
    "    NOTSET,\n",
    "    FileHandler,\n",
    "    Formatter,\n",
    "    Logger,\n",
    "    StreamHandler,\n",
    "    captureWarnings,\n",
    "    getLogger,\n",
    ")\n",
    "from pathlib import Path\n",
    "from shutil import rmtree\n",
    "\n",
    "import matplotlib.pyplot as plt\n",
    "import numpy as np\n",
    "from ase.build import molecule\n",
    "from ase.build.rotate import minimize_rotation_and_translation\n",
    "from ase.geometry import get_dihedrals\n",
    "from ase.io.trajectory import Trajectory\n",
    "from ase.mep import NEB\n",
    "from ase.optimize import FIRE, LBFGS\n",
    "from ase.vibrations import Vibrations\n",
    "from ase.visualize import view\n",
    "from fairchem.core import FAIRChemCalculator\n",
    "from fairchem.core.units.mlip_unit import load_predict_unit\n",
    "from sella import Sella"
   ]
  },
  {
   "cell_type": "code",
   "execution_count": 2,
   "id": "33b3af0d",
   "metadata": {},
   "outputs": [],
   "source": [
    "jobname = \"ethane-neb\"\n",
    "\n",
    "SEED = 334"
   ]
  },
  {
   "cell_type": "code",
   "execution_count": 3,
   "id": "6b652561",
   "metadata": {},
   "outputs": [],
   "source": [
    "if \"__file__\" in locals():\n",
    "    DIRPATH_ROOT = Path(__file__).parent\n",
    "else:\n",
    "    DIRPATH_ROOT = Path(os.getcwd())\n",
    "\n",
    "DIRPATH_TRAJ = DIRPATH_ROOT / \"traj\" / jobname\n",
    "rmtree(DIRPATH_TRAJ, ignore_errors=True)\n",
    "DIRPATH_TRAJ.mkdir(parents=True)\n",
    "\n",
    "DIRPATH_LOG = DIRPATH_ROOT / \"log\" / jobname\n",
    "rmtree(DIRPATH_LOG, ignore_errors=True)\n",
    "DIRPATH_LOG.mkdir(parents=True)\n"
   ]
  },
  {
   "cell_type": "code",
   "execution_count": 4,
   "id": "58e36eab",
   "metadata": {},
   "outputs": [],
   "source": [
    "def configure_logger() -> Logger:\n",
    "    logger = getLogger(\"sella-tutorial\")\n",
    "    logger.propagate = False\n",
    "\n",
    "    formatter = Formatter(\"%(asctime)s [%(levelname)s] %(message)s\")\n",
    "\n",
    "    file_handler = FileHandler(\n",
    "        DIRPATH_LOG / \"sella-tutorial.log\",\n",
    "        mode=\"w\",  # 上書き\n",
    "    )\n",
    "    file_handler.setFormatter(formatter)\n",
    "    file_handler.setLevel(NOTSET)\n",
    "\n",
    "    if importlib.util.find_spec(\"colorlog\"):\n",
    "        from colorlog import ColoredFormatter\n",
    "\n",
    "        colored_formatter = ColoredFormatter(\n",
    "            \"%(asctime)s [%(log_color)s%(levelname)s%(reset)s] %(message)s\"\n",
    "        )\n",
    "    else:\n",
    "        colored_formatter = formatter\n",
    "    stream_handler = StreamHandler()\n",
    "    stream_handler.setFormatter(colored_formatter)\n",
    "    stream_handler.setLevel(NOTSET)\n",
    "\n",
    "    captureWarnings(True)\n",
    "    _logger_warnings = getLogger(\"py.warnings\")\n",
    "    _logger_warnings.handlers.clear()\n",
    "    _logger_warnings.addHandler(file_handler)\n",
    "    _logger_warnings.addHandler(stream_handler)\n",
    "    _logger_warnings.propagate = False\n",
    "\n",
    "    logger.handlers.clear()\n",
    "    logger.addHandler(file_handler)\n",
    "    logger.addHandler(stream_handler)\n",
    "    logger.setLevel(INFO)\n",
    "\n",
    "    return logger\n",
    "\n",
    "\n",
    "logger = configure_logger()"
   ]
  },
  {
   "cell_type": "code",
   "execution_count": 5,
   "id": "12dfee94",
   "metadata": {},
   "outputs": [],
   "source": [
    "predictor = load_predict_unit(\n",
    "    Path(os.environ[\"HOME\"]) / \"uma/checkpoints/uma-s-1p1.pt\", device=\"cuda\"\n",
    ")\n",
    "calc = FAIRChemCalculator(predictor, task_name=\"omol\", seed=SEED)"
   ]
  },
  {
   "cell_type": "code",
   "execution_count": 6,
   "id": "409f68f4",
   "metadata": {},
   "outputs": [],
   "source": [
    "# --- 0) ユーティリティ：Cと各Cに結合するHを見つける\n",
    "def find_ch_groups(atoms, cutoff=1.3):\n",
    "    positions = atoms.get_positions()\n",
    "    symbols = atoms.get_chemical_symbols()\n",
    "    C_idx = [i for i, s in enumerate(symbols) if s == \"C\"]\n",
    "    H_idx = [i for i, s in enumerate(symbols) if s == \"H\"]\n",
    "    # 簡易に距離でC-H結合を判定\n",
    "    ch = {c: [] for c in C_idx}\n",
    "    for c in C_idx:\n",
    "        for h in H_idx:\n",
    "            d = np.linalg.norm(positions[c] - positions[h])\n",
    "            if d < cutoff:\n",
    "                ch[c].append(h)\n",
    "    C0, C1 = C_idx\n",
    "    Hs0, Hs1 = ch[C0], ch[C1]\n",
    "    # 各メチルから1つHを選び、H–C–C–Hの二面角を定義\n",
    "    # return C0, C1, Hs0[0], Hs1[0]\n",
    "    return C0, C1, Hs0, Hs1"
   ]
  },
  {
   "cell_type": "code",
   "execution_count": 7,
   "id": "892eedc2",
   "metadata": {
    "lines_to_next_cell": 2
   },
   "outputs": [
    {
     "name": "stderr",
     "output_type": "stream",
     "text": [
      "2025-08-21 16:33:59,162 [\u001b[32mINFO\u001b[0m] Converge initial structure: True\u001b[0m\n",
      "2025-08-21 16:33:59,163 [\u001b[32mINFO\u001b[0m] dihedral angle (initial): 299.9999316289081 degree\u001b[0m\n",
      "2025-08-21 16:33:59,267 [\u001b[32mINFO\u001b[0m] Converge final structure: True\u001b[0m\n",
      "2025-08-21 16:33:59,269 [\u001b[32mINFO\u001b[0m] dihedral angle (final): 59.999999999999986 degree\u001b[0m\n"
     ]
    }
   ],
   "source": [
    "# --- 1) 初期/最終構造の用意（エタン）\n",
    "ethane = molecule(\"C2H6\")  # 初期に一旦作成\n",
    "C0, C1, Hs0, Hs1 = find_ch_groups(ethane)\n",
    "\n",
    "mask = tuple(ind in set(Hs1) | {C0, C1} for ind in range(len(ethane)))\n",
    "\n",
    "\n",
    "# --- ヘルパー関数: dihedral angle を degree で返す\n",
    "def dihedral_angle(atoms, i, j, k, l):\n",
    "    pos = atoms.get_positions()\n",
    "    v0 = pos[j] - pos[i]  # i->j\n",
    "    v1 = pos[k] - pos[j]  # j->k\n",
    "    v2 = pos[l] - pos[k]  # k->l\n",
    "    return get_dihedrals([v0], [v1], [v2])[0]  # degree\n",
    "\n",
    "\n",
    "# 初期: -60° Staggered\n",
    "initial = ethane.copy()\n",
    "target_init_dihed = -60.0\n",
    "initial.set_dihedral(\n",
    "    Hs0[0],\n",
    "    C0,\n",
    "    C1,\n",
    "    Hs1[0],\n",
    "    target_init_dihed,\n",
    "    mask=mask,\n",
    ")\n",
    "initial.calc = copy(calc)\n",
    "initial.info[\"charge\"] = 0\n",
    "initial.info[\"spin\"] = 1\n",
    "opt_init = LBFGS(\n",
    "    initial,\n",
    "    logfile=str(DIRPATH_LOG / \"initial.log\"),\n",
    "    trajectory=str(DIRPATH_TRAJ / \"initial.traj\"),\n",
    ")\n",
    "converged_init = opt_init.run(fmax=0.01)\n",
    "logger.info(f\"Converge initial structure: {converged_init}\")\n",
    "\n",
    "dihed_initial = dihedral_angle(initial, Hs0[0], C0, C1, Hs1[0])\n",
    "logger.info(f\"dihedral angle (initial): {dihed_initial} degree\")\n",
    "# dihed = dihedral_angle(ethane, Hs0[0], C0, C1, Hs1[0])\n",
    "\n",
    "\n",
    "final = initial.copy()\n",
    "target_final_dihed = 60.0  # degree\n",
    "final.set_dihedral(\n",
    "    Hs0[0],\n",
    "    C0,\n",
    "    C1,\n",
    "    Hs1[0],\n",
    "    target_final_dihed,\n",
    "    mask=mask,\n",
    ")\n",
    "\n",
    "final.calc = copy(calc)\n",
    "final.info[\"charge\"] = 0\n",
    "final.info[\"spin\"] = 1\n",
    "opt_final = LBFGS(\n",
    "    final,\n",
    "    logfile=str(DIRPATH_LOG / \"final.log\"),\n",
    "    trajectory=str(DIRPATH_TRAJ / \"final.traj\"),\n",
    ")\n",
    "converged_final = opt_final.run(fmax=0.01)\n",
    "logger.info(f\"Converge final structure: {converged_final}\")\n",
    "\n",
    "dihed_final = dihedral_angle(final, Hs0[0], C0, C1, Hs1[0])\n",
    "logger.info(f\"dihedral angle (final): {dihed_final} degree\")"
   ]
  },
  {
   "cell_type": "code",
   "execution_count": 8,
   "id": "d4ee746c",
   "metadata": {},
   "outputs": [
    {
     "data": {
      "application/vnd.jupyter.widget-view+json": {
       "model_id": "a47552d946b2412991f30e95557bfb93",
       "version_major": 2,
       "version_minor": 0
      },
      "text/plain": []
     },
     "metadata": {},
     "output_type": "display_data"
    },
    {
     "data": {
      "application/vnd.jupyter.widget-view+json": {
       "model_id": "e505558194fb4bcd887ef28666fbfb2e",
       "version_major": 2,
       "version_minor": 0
      },
      "text/plain": [
       "HBox(children=(NGLWidget(max_frame=1), VBox(children=(Dropdown(description='Show', options=('All', 'C', 'H'), …"
      ]
     },
     "execution_count": 8,
     "metadata": {},
     "output_type": "execute_result"
    }
   ],
   "source": [
    "# 座標の違いを最小にする\n",
    "minimize_rotation_and_translation(initial, final)\n",
    "\n",
    "view((initial, final), viewer=\"ngl\")"
   ]
  },
  {
   "cell_type": "code",
   "execution_count": 9,
   "id": "686d11f4",
   "metadata": {},
   "outputs": [],
   "source": [
    "# --- 2) NEB 準備\n",
    "n_images = 5  # 中間像の数（増やすと経路がなめらか）\n",
    "images = [initial]\n",
    "images += [initial.copy() for _ in range(n_images)]\n",
    "images += [final]\n",
    "\n",
    "neb = NEB(images, k=0.1, climb=True)\n",
    "neb.interpolate(method=\"idpp\")\n",
    "\n",
    "# 計算器\n",
    "for im in images:\n",
    "    im.info[\"charge\"] = 0\n",
    "    im.info[\"spin\"] = 1\n",
    "    im.calc = copy(calc)\n"
   ]
  },
  {
   "cell_type": "code",
   "execution_count": 10,
   "id": "c6ec5d24",
   "metadata": {
    "lines_to_next_cell": 2
   },
   "outputs": [
    {
     "name": "stderr",
     "output_type": "stream",
     "text": [
      "2025-08-21 16:34:13,659 [\u001b[32mINFO\u001b[0m] NEB converged: True\u001b[0m\n"
     ]
    }
   ],
   "source": [
    "# --- 3) NEB 最適化\n",
    "opt_neb = FIRE(\n",
    "    neb,\n",
    "    logfile=str(DIRPATH_LOG / \"neb.log\"),\n",
    "    trajectory=str(DIRPATH_TRAJ / \"neb.traj\"),\n",
    ")\n",
    "converged_neb = opt_neb.run(fmax=0.05, steps=1000)\n",
    "logger.info(f\"NEB converged: {converged_neb}\")"
   ]
  },
  {
   "cell_type": "code",
   "execution_count": 11,
   "id": "a66d79c2",
   "metadata": {
    "lines_to_next_cell": 2
   },
   "outputs": [
    {
     "name": "stderr",
     "output_type": "stream",
     "text": [
      "2025-08-21 16:34:13,842 [\u001b[32mINFO\u001b[0m] NEB images: 7, TS guess index: 3, E[max]-E[0] = 0.112 eV\u001b[0m\n"
     ]
    }
   ],
   "source": [
    "# --- 4) 最高エネルギー像をTS初期候補として抽出\n",
    "energies = np.array([a.get_potential_energy() for a in images])\n",
    "energies -= energies.min()\n",
    "ts_idx = int(np.argmax(energies))\n",
    "ts_guess = images[ts_idx]\n",
    "\n",
    "logger.info(\n",
    "    f\"NEB images: {len(images)}, TS guess index: {ts_idx}, E[max]-E[0] = {energies[ts_idx]:.3f} eV\"\n",
    ")"
   ]
  },
  {
   "cell_type": "code",
   "execution_count": 12,
   "id": "524bb13b",
   "metadata": {},
   "outputs": [
    {
     "data": {
      "application/vnd.jupyter.widget-view+json": {
       "model_id": "c929b9d973ae49b7bdd27daa413d733f",
       "version_major": 2,
       "version_minor": 0
      },
      "text/plain": [
       "HBox(children=(NGLWidget(max_frame=6), VBox(children=(Dropdown(description='Show', options=('All', 'C', 'H'), …"
      ]
     },
     "execution_count": 12,
     "metadata": {},
     "output_type": "execute_result"
    }
   ],
   "source": [
    "view(images, viewer=\"ngl\")"
   ]
  },
  {
   "cell_type": "code",
   "execution_count": 13,
   "id": "c877af4f",
   "metadata": {},
   "outputs": [
    {
     "data": {
      "image/png": "[encoded data removed]",
      "text/plain": [
       "<Figure size 691.2x460.8 with 1 Axes>"
      ]
     },
     "metadata": {},
     "output_type": "display_data"
    }
   ],
   "source": [
    "fig, ax = plt.subplots(dpi=144, figsize=(4.8, 3.2))\n",
    "ax.plot(energies, marker=\"o\")\n",
    "ax.ticklabel_format(style=\"plain\", useOffset=False)\n",
    "ax.set_ylabel(\"Potential energy / eV\")\n",
    "fig.tight_layout()"
   ]
  },
  {
   "cell_type": "code",
   "execution_count": 14,
   "id": "6258b910",
   "metadata": {},
   "outputs": [
    {
     "data": {
      "image/png": "[encoded data removed]",
      "text/plain": [
       "<Figure size 691.2x460.8 with 1 Axes>"
      ]
     },
     "metadata": {},
     "output_type": "display_data"
    }
   ],
   "source": [
    "arr_dihedral_angles = np.asarray(\n",
    "    [\n",
    "        dihedral_angle(images[frame], Hs0[0], C0, C1, Hs1[0])\n",
    "        for frame in range(len(images))\n",
    "    ]\n",
    ")\n",
    "arr_dihedral_angles[arr_dihedral_angles > 180] -= 360\n",
    "\n",
    "fig, ax = plt.subplots(dpi=144, figsize=(4.8, 3.2))\n",
    "ax.plot(arr_dihedral_angles, energies, marker=\"o\")\n",
    "ax.ticklabel_format(style=\"plain\", useOffset=False)\n",
    "ax.set_xlabel(\"Dihedral angle / degree\")\n",
    "ax.set_ylabel(\"Potential energy / eV\")\n",
    "fig.tight_layout()"
   ]
  },
  {
   "cell_type": "code",
   "execution_count": 15,
   "id": "0ade662a",
   "metadata": {
    "lines_to_next_cell": 2
   },
   "outputs": [
    {
     "name": "stderr",
     "output_type": "stream",
     "text": [
      "WARNING:2025-08-21 16:34:14,195:jax._src.xla_bridge:872: An NVIDIA GPU may be present on this machine, but a CUDA-enabled jaxlib is not installed. Falling back to cpu.\n",
      "WARNING:jax._src.xla_bridge:An NVIDIA GPU may be present on this machine, but a CUDA-enabled jaxlib is not installed. Falling back to cpu.\n",
      "2025-08-21 16:34:40,472 [\u001b[32mINFO\u001b[0m] Sella TS search finished. See ts.traj / ts.log\u001b[0m\n",
      "2025-08-21 16:34:40,475 [\u001b[32mINFO\u001b[0m] Converge TS: True\u001b[0m\n"
     ]
    }
   ],
   "source": [
    "# --- 5) Sella で遷移状態探索（opt='ts'）\n",
    "ts_structure = ts_guess.copy()\n",
    "\n",
    "ts_structure.calc = copy(calc)\n",
    "ts_structure.info[\"charge\"] = 0\n",
    "ts_structure.info[\"spin\"] = 1\n",
    "ts_structure.set_constraint()\n",
    "opt_ts = Sella(\n",
    "    ts_structure,\n",
    "    trajectory=str(DIRPATH_TRAJ / \"ts.traj\"),\n",
    "    logfile=str(DIRPATH_LOG / \"ts.log\"),\n",
    "    order=1,  # ← index-1 saddle を探す\n",
    "    eta=1e-4,  # 初期ステップサイズ。大きくすると高速に移動、小さくすると安定だが遅い\n",
    "    gamma=0.01,  # 反復パラメータ（Sella 固有）。勾配の反映具合を調整\n",
    "    internal=True,  # 内部座標系で最適化するか。\n",
    "    diag_every_n=1,\n",
    ")\n",
    "converged_ts = opt_ts.run(fmax=1e-4)\n",
    "logger.info(\"Sella TS search finished. See ts.traj / ts.log\")\n",
    "logger.info(f\"Converge TS: {converged_ts}\")\n"
   ]
  },
  {
   "cell_type": "code",
   "execution_count": 16,
   "id": "9defa277",
   "metadata": {},
   "outputs": [
    {
     "data": {
      "text/plain": [
       "np.float64(0.15870478500850113)"
      ]
     },
     "execution_count": 16,
     "metadata": {},
     "output_type": "execute_result"
    }
   ],
   "source": [
    "dihedral_angle(ts_structure, Hs0[0], C0, C1, Hs1[0])"
   ]
  },
  {
   "cell_type": "code",
   "execution_count": 17,
   "id": "59ce702e",
   "metadata": {},
   "outputs": [
    {
     "data": {
      "text/html": [
       "<html>\n",
       "    <head>\n",
       "        <title>ASE atomic visualization</title>\n",
       "        <link rel=\"stylesheet\" type=\"text/css\"             href=\"https://www.x3dom.org/release/x3dom.css\"></link>\n",
       "        <script type=\"text/javascript\"             src=\"https://www.x3dom.org/release/x3dom.js\"></script>\n",
       "    </head>\n",
       "    <body>\n",
       "        <X3D width=\"400px\"; height=\"300px\";>\n",
       "\n",
       "<!--Inserting Generated X3D Scene-->\n",
       "<scene>\n",
       "  <viewpoint position=\"0 0 4.688728024672763\">\n",
       "    <group/>\n",
       "  </viewpoint>\n",
       "  <transform translation=\"-0.0 -0.0 -0.0\">\n",
       "    <group>\n",
       "      <group>\n",
       "        <transform translation=\"0 0 0\">\n",
       "          <shape>\n",
       "            <appearance>\n",
       "              <material diffuseColor=\"0 0 0\"/>\n",
       "            </appearance>\n",
       "            <lineset vertexCount=\"5\">\n",
       "              <coordinate point=\"0 0 0 0.0 0.0 0.0 0.0 0.0 0.0 0.0 0.0 0.0 0 0 0\"/>\n",
       "            </lineset>\n",
       "          </shape>\n",
       "        </transform>\n",
       "        <transform translation=\"0.0 0.0 0.0\">\n",
       "          <shape>\n",
       "            <appearance>\n",
       "              <material diffuseColor=\"0 0 0\"/>\n",
       "            </appearance>\n",
       "            <lineset vertexCount=\"5\">\n",
       "              <coordinate point=\"0 0 0 0.0 0.0 0.0 0.0 0.0 0.0 0.0 0.0 0.0 0 0 0\"/>\n",
       "            </lineset>\n",
       "          </shape>\n",
       "        </transform>\n",
       "        <transform translation=\"0 0 0\">\n",
       "          <shape>\n",
       "            <appearance>\n",
       "              <material diffuseColor=\"0 0 0\"/>\n",
       "            </appearance>\n",
       "            <lineset vertexCount=\"5\">\n",
       "              <coordinate point=\"0 0 0 0.0 0.0 0.0 0.0 0.0 0.0 0.0 0.0 0.0 0 0 0\"/>\n",
       "            </lineset>\n",
       "          </shape>\n",
       "        </transform>\n",
       "        <transform translation=\"0.0 0.0 0.0\">\n",
       "          <shape>\n",
       "            <appearance>\n",
       "              <material diffuseColor=\"0 0 0\"/>\n",
       "            </appearance>\n",
       "            <lineset vertexCount=\"5\">\n",
       "              <coordinate point=\"0 0 0 0.0 0.0 0.0 0.0 0.0 0.0 0.0 0.0 0.0 0 0 0\"/>\n",
       "            </lineset>\n",
       "          </shape>\n",
       "        </transform>\n",
       "      </group>\n",
       "      <group>\n",
       "        <transform translation=\"3.055423965858478e-07 -2.0135868178870753e-05 0.7682311961388274\">\n",
       "          <shape>\n",
       "            <appearance>\n",
       "              <material diffuseColor=\"0.565 0.565 0.565\"/>\n",
       "            </appearance>\n",
       "            <sphere radius=\"0.76\"/>\n",
       "          </shape>\n",
       "        </transform>\n",
       "        <transform translation=\"1.4247572369867765e-07 2.5191045142587334e-05 -0.768230866455411\">\n",
       "          <shape>\n",
       "            <appearance>\n",
       "              <material diffuseColor=\"0.565 0.565 0.565\"/>\n",
       "            </appearance>\n",
       "            <sphere radius=\"0.76\"/>\n",
       "          </shape>\n",
       "        </transform>\n",
       "        <transform translation=\"-0.5071723071448828 0.875608025898532 1.1721838903120263\">\n",
       "          <shape>\n",
       "            <appearance>\n",
       "              <material diffuseColor=\"1.0 1.0 1.0\"/>\n",
       "            </appearance>\n",
       "            <sphere radius=\"0.31\"/>\n",
       "          </shape>\n",
       "        </transform>\n",
       "        <transform translation=\"-0.5047490017321018 -0.8770921072812123 1.1721222839821561\">\n",
       "          <shape>\n",
       "            <appearance>\n",
       "              <material diffuseColor=\"1.0 1.0 1.0\"/>\n",
       "            </appearance>\n",
       "            <sphere radius=\"0.31\"/>\n",
       "          </shape>\n",
       "        </transform>\n",
       "        <transform translation=\"1.0119217883510894 0.0014913836389778788 1.1721543647164498\">\n",
       "          <shape>\n",
       "            <appearance>\n",
       "              <material diffuseColor=\"1.0 1.0 1.0\"/>\n",
       "            </appearance>\n",
       "            <sphere radius=\"0.31\"/>\n",
       "          </shape>\n",
       "        </transform>\n",
       "        <transform translation=\"-0.504752769085923 0.8770918745691363 -1.1721272914709364\">\n",
       "          <shape>\n",
       "            <appearance>\n",
       "              <material diffuseColor=\"1.0 1.0 1.0\"/>\n",
       "            </appearance>\n",
       "            <sphere radius=\"0.31\"/>\n",
       "          </shape>\n",
       "        </transform>\n",
       "        <transform translation=\"1.0119219573640739 -0.0014974274025929333 -1.1721534443499322\">\n",
       "          <shape>\n",
       "            <appearance>\n",
       "              <material diffuseColor=\"1.0 1.0 1.0\"/>\n",
       "            </appearance>\n",
       "            <sphere radius=\"0.31\"/>\n",
       "          </shape>\n",
       "        </transform>\n",
       "        <transform translation=\"-0.5071692500561454 -0.8756083076572533 -1.1721801220243548\">\n",
       "          <shape>\n",
       "            <appearance>\n",
       "              <material diffuseColor=\"1.0 1.0 1.0\"/>\n",
       "            </appearance>\n",
       "            <sphere radius=\"0.31\"/>\n",
       "          </shape>\n",
       "        </transform>\n",
       "      </group>\n",
       "    </group>\n",
       "  </transform>\n",
       "</scene>\n",
       "<!--End of Inserted Scene-->\n",
       "\n",
       "        </X3D>\n",
       "    </body>\n",
       "</html>\n",
       "\n"
      ],
      "text/plain": [
       "<IPython.core.display.HTML object>"
      ]
     },
     "execution_count": 17,
     "metadata": {},
     "output_type": "execute_result"
    }
   ],
   "source": [
    "view(ts_structure, viewer=\"x3d\")"
   ]
  },
  {
   "cell_type": "code",
   "execution_count": 18,
   "id": "a66525fc",
   "metadata": {},
   "outputs": [
    {
     "name": "stderr",
     "output_type": "stream",
     "text": [
      "2025-08-21 16:34:45,136 [\u001b[32mINFO\u001b[0m] === 振動数計算結果 ===\u001b[0m\n",
      "2025-08-21 16:34:45,137 [\u001b[32mINFO\u001b[0m] 虚振動の数: 4 / 24\u001b[0m\n",
      "2025-08-21 16:34:45,153 [\u001b[32mINFO\u001b[0m] 虚振動数 (cm^-1):\n",
      "  0: 0.00+277.78j\n",
      "  1: 0.00+6.83j\n",
      "  2: 0.00+0.35j\n",
      "  3: 0.00+0.12j\u001b[0m\n",
      "2025-08-21 16:34:45,154 [\u001b[32mINFO\u001b[0m] \n",
      "---------------------\n",
      "  #    meV     cm^-1\n",
      "---------------------\n",
      "  0   34.4i    277.8i\n",
      "  1    0.8i      6.8i\n",
      "  2    0.0i      0.3i\n",
      "  3    0.0i      0.1i\n",
      "  4    0.0       0.3\n",
      "  5    4.2      34.2\n",
      "  6   11.4      92.3\n",
      "  7  110.8     893.6\n",
      "  8  111.6     900.3\n",
      "  9  126.1    1016.8\n",
      " 10  144.7    1167.4\n",
      " 11  145.1    1170.2\n",
      " 12  173.3    1397.9\n",
      " 13  177.9    1434.8\n",
      " 14  184.9    1491.6\n",
      " 15  185.1    1492.7\n",
      " 16  186.1    1501.3\n",
      " 17  186.2    1501.8\n",
      " 18  379.8    3063.3\n",
      " 19  380.7    3070.6\n",
      " 20  385.9    3112.2\n",
      " 21  386.2    3114.7\n",
      " 22  388.5    3133.8\n",
      " 23  388.9    3136.8\n",
      "---------------------\n",
      "Zero-point energy: 2.029 eV\n",
      "\u001b[0m\n"
     ]
    }
   ],
   "source": [
    "# --- 6) 振動数計算\n",
    "dirpath_vib_cache = DIRPATH_TRAJ / \"cache\"\n",
    "\n",
    "# 遷移状態の構造を読み込み\n",
    "# ts_structure = read(\"ts.traj\", index=-1)  # 最後の構造を取得\n",
    "ts_structure.calc = copy(calc)\n",
    "ts_structure.info[\"charge\"] = 0\n",
    "ts_structure.info[\"spin\"] = 1\n",
    "\n",
    "# 振動数計算の設定\n",
    "vib = Vibrations(\n",
    "    ts_structure, delta=0.01, name=str(dirpath_vib_cache), nfree=2\n",
    ")  # delta: 有限差分のステップサイズ（Å）\n",
    "\n",
    "vib.clean()\n",
    "# 振動数計算を実行\n",
    "vib.run()\n",
    "\n",
    "frequencies = vib.get_frequencies()\n",
    "flag_imag_freq = ~np.isclose(frequencies.imag, 0.0)\n",
    "n_imag_freqs = np.sum(flag_imag_freq).item()\n",
    "# 結果の表示\n",
    "logger.info(\"=== 振動数計算結果 ===\")\n",
    "logger.info(f\"虚振動の数: {n_imag_freqs} / {flag_imag_freq.shape[0]}\")\n",
    "\n",
    "# 虚振動数の詳細表示\n",
    "str_imag_freqs = \"虚振動数 (cm^-1):\"\n",
    "if n_imag_freqs:\n",
    "    for idx, freq in enumerate(frequencies):\n",
    "        if flag_imag_freq[idx]:\n",
    "            str_imag_freqs += f\"\\n  {idx}: {freq:8.2f}\"\n",
    "            # 虚振動のモードを可視化\n",
    "            vib.write_mode(idx)\n",
    "            (\n",
    "                dirpath_vib_cache.parent\n",
    "                / f\"{dirpath_vib_cache.name}.{idx}.traj\"\n",
    "            ).rename(dirpath_vib_cache.parent / f\"{jobname}.{idx}.traj\")\n",
    "\n",
    "    logger.info(str_imag_freqs)\n",
    "\n",
    "buffer_io = StringIO()\n",
    "vib.summary(log=buffer_io)\n",
    "logger.info(f\"\\n{buffer_io.getvalue()}\")"
   ]
  },
  {
   "cell_type": "code",
   "execution_count": 19,
   "id": "2362d541",
   "metadata": {},
   "outputs": [
    {
     "data": {
      "application/vnd.jupyter.widget-view+json": {
       "model_id": "d6da30be601f46f6818c5d1482d4263f",
       "version_major": 2,
       "version_minor": 0
      },
      "text/plain": [
       "HBox(children=(NGLWidget(max_frame=29), VBox(children=(Dropdown(description='Show', options=('All', 'C', 'H'),…"
      ]
     },
     "execution_count": 19,
     "metadata": {},
     "output_type": "execute_result"
    }
   ],
   "source": [
    "ind = 0\n",
    "traj_vib = Trajectory(DIRPATH_TRAJ / f\"{jobname}.{ind}.traj\")\n",
    "# write(f\"vib.{ind}.gif\", traj_vib, format=\"gif\")\n",
    "view(traj_vib, viewer=\"ngl\")\n"
   ]
  }
 ],
 "metadata": {
  "kernelspec": {
   "display_name": "fairchem312",
   "language": "python",
   "name": "python3"
  },
  "language_info": {
   "codemirror_mode": {
    "name": "ipython",
    "version": 3
   },
   "file_extension": ".py",
   "mimetype": "text/x-python",
   "name": "python",
   "nbconvert_exporter": "python",
   "pygments_lexer": "ipython3",
   "version": "3.12.11"
  }
 },
 "nbformat": 4,
 "nbformat_minor": 5
}
